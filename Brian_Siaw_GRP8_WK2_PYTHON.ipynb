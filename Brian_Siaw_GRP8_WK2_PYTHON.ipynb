{
 "cells": [
  {
   "cell_type": "code",
   "execution_count": 1,
   "id": "40cc9c17-1cfd-4b50-b0b0-f930d68c6f1b",
   "metadata": {},
   "outputs": [],
   "source": [
    "#GROUP 8- WEEK 2- PYTHON PROGRAMMING- CASE STUDY"
   ]
  },
  {
   "cell_type": "code",
   "execution_count": 4,
   "id": "e6524df6-0cb0-40f4-be32-ca03e1050ecf",
   "metadata": {},
   "outputs": [],
   "source": [
    "#  Initialize the data\n",
    "products = [\"Sankofa Foods\", \"Jamestown Coffee\",\"Bioko Chocolate\",\"Blue Skies Ice Cream\",\"Fair Afric Chocolate\", \"Kawa Moka Coffee\", \"Aphro Spirit\", \"Mensado Bissap\",\"Voltic\"]\n",
    "prices = [30, 25, 40, 20, 20, 35, 45, 50, 35]\n",
    "last_week = [2, 3, 5, 8, 4, 4, 6, 2, 9]\n",
    "\n",
    "\n",
    "\n",
    "\n",
    "\n",
    "\n",
    "\n",
    "\n"
   ]
  },
  {
   "cell_type": "code",
   "execution_count": 5,
   "id": "a54de381-fda2-417f-a4c6-c7b12db1ef22",
   "metadata": {},
   "outputs": [
    {
     "name": "stdout",
     "output_type": "stream",
     "text": [
      "Total price average for all products: Ghc33.33\n"
     ]
    }
   ],
   "source": [
    "# Q1: Calculate the total price average for all products\n",
    "total_price_average = sum(prices) / len(prices)\n",
    "total_price_average_2dp= round(total_price_average ,2)\n",
    "print(f'Total price average for all products: Ghc{total_price_average_2dp}')"
   ]
  },
  {
   "cell_type": "code",
   "execution_count": 7,
   "id": "d549c8fe-e556-40d9-af3e-0e9a70c56dad",
   "metadata": {},
   "outputs": [
    {
     "name": "stdout",
     "output_type": "stream",
     "text": [
      "New prices list in Ghc:[25, 20, 35, 15, 15, 30, 40, 45, 30]\n"
     ]
    }
   ],
   "source": [
    "# Q2: Create a new price list that reduces the old prices by GHC5\n",
    "new_prices_list = [new_price - 5 for new_price in prices]\n",
    "print(f'New prices list in Ghc:{new_prices_list}' )"
   ]
  },
  {
   "cell_type": "code",
   "execution_count": 8,
   "id": "dce45c0b-d49e-49f0-9d0d-e3ca54d86379",
   "metadata": {},
   "outputs": [
    {
     "name": "stdout",
     "output_type": "stream",
     "text": [
      "Total revenue generated from the products:Ghc1400\n"
     ]
    }
   ],
   "source": [
    "# Q3: Calculate the total revenue generated from the products\n",
    "total_revenue = sum(unit_price * customers for unit_price, customers in zip(prices, last_week))\n",
    "total_revenue_2dp = round(total_revenue,2)\n",
    "print(f'Total revenue generated from the products:Ghc{total_revenue_2dp}' )"
   ]
  },
  {
   "cell_type": "code",
   "execution_count": 9,
   "id": "5c79e14d-2118-4675-a3ce-33b265306776",
   "metadata": {},
   "outputs": [
    {
     "name": "stdout",
     "output_type": "stream",
     "text": [
      "Average daily revenue generated from the products: Ghc200.00\n"
     ]
    }
   ],
   "source": [
    "\n",
    "# Q4: Calculate the average daily revenue generated from the products\n",
    "average_daily_revenue = total_revenue / 7\n",
    "average_daily_revenue_2dp = '{:.2f}'.format(average_daily_revenue)\n",
    "print(f'Average daily revenue generated from the products: Ghc{average_daily_revenue_2dp}')"
   ]
  },
  {
   "cell_type": "code",
   "execution_count": 10,
   "id": "f0e9f114-6dad-45bb-b407-aee1860efc37",
   "metadata": {},
   "outputs": [
    {
     "name": "stdout",
     "output_type": "stream",
     "text": [
      "Products less than GHC30:['Sankofa Foods', 'Jamestown Coffee', 'Blue Skies Ice Cream', 'Fair Afric Chocolate']\n"
     ]
    }
   ],
   "source": [
    "# Q5: Determine which products, based on the new prices, are less than GHC30\n",
    "products_less_than_30gh = [product for product, price in zip(products, new_prices_list) if price < 30]\n",
    "print(f'Products less than GHC30:{products_less_than_30gh}')"
   ]
  },
  {
   "cell_type": "code",
   "execution_count": null,
   "id": "bc583324-46af-4248-93a6-d9e2fdfaf3be",
   "metadata": {},
   "outputs": [],
   "source": []
  }
 ],
 "metadata": {
  "kernelspec": {
   "display_name": "Python 3 (ipykernel)",
   "language": "python",
   "name": "python3"
  },
  "language_info": {
   "codemirror_mode": {
    "name": "ipython",
    "version": 3
   },
   "file_extension": ".py",
   "mimetype": "text/x-python",
   "name": "python",
   "nbconvert_exporter": "python",
   "pygments_lexer": "ipython3",
   "version": "3.10.9"
  }
 },
 "nbformat": 4,
 "nbformat_minor": 5
}
